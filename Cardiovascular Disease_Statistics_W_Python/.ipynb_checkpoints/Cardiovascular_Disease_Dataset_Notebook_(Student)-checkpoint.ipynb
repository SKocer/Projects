{
 "cells": [
  {
   "cell_type": "markdown",
   "id": "31e10954",
   "metadata": {
    "id": "31e10954"
   },
   "source": [
    "# Cardiovascular Disease Dataset\n",
    "\n",
    "We will study with a dataset on Cardiovascular Disease.\n",
    "\n",
    "We'll try to understand the concepts like\n",
    "\n",
    "- true means,\n",
    "- confidence intervals,\n",
    "- one sample t test,\n",
    "- independent samples t test,\n",
    "- homogenity of variance check (Levene's test),\n",
    "- One-way ANOVA,\n",
    "- Chi-square test.\n",
    "\n",
    "Dataset from: https://www.kaggle.com/datasets/sulianova/cardiovascular-disease-dataset"
   ]
  },
  {
   "cell_type": "markdown",
   "id": "ce8088f5",
   "metadata": {
    "id": "ce8088f5"
   },
   "source": [
    "# Data Preparation"
   ]
  },
  {
   "cell_type": "markdown",
   "id": "c5e829d7",
   "metadata": {
    "id": "c5e829d7"
   },
   "source": [
    "⭐ Import pandas, scipy.stats, seaborn, and matplotlib.pyplot libraries"
   ]
  },
  {
   "cell_type": "code",
   "execution_count": 1,
   "id": "4ee9098b",
   "metadata": {
    "id": "4ee9098b"
   },
   "outputs": [],
   "source": [
    "import pandas as pd\n",
    "from scipy import stats\n",
    "import seaborn as sns\n",
    "import matplotlib.pyplot as plt\n",
    "import numpy as np"
   ]
  },
  {
   "cell_type": "markdown",
   "id": "b631a97c",
   "metadata": {
    "id": "b631a97c"
   },
   "source": [
    "⭐Run the following code to read in the \"cardio.csv\" file."
   ]
  },
  {
   "cell_type": "code",
   "execution_count": 2,
   "id": "c7983124",
   "metadata": {
    "id": "c7983124"
   },
   "outputs": [],
   "source": [
    "df = pd.read_csv(\"cardio.csv\", sep=\";\")"
   ]
  },
  {
   "cell_type": "code",
   "execution_count": 3,
   "id": "0cab8e4e",
   "metadata": {
    "id": "0cab8e4e"
   },
   "outputs": [
    {
     "data": {
      "text/html": [
       "<div>\n",
       "<style scoped>\n",
       "    .dataframe tbody tr th:only-of-type {\n",
       "        vertical-align: middle;\n",
       "    }\n",
       "\n",
       "    .dataframe tbody tr th {\n",
       "        vertical-align: top;\n",
       "    }\n",
       "\n",
       "    .dataframe thead th {\n",
       "        text-align: right;\n",
       "    }\n",
       "</style>\n",
       "<table border=\"1\" class=\"dataframe\">\n",
       "  <thead>\n",
       "    <tr style=\"text-align: right;\">\n",
       "      <th></th>\n",
       "      <th>id</th>\n",
       "      <th>age</th>\n",
       "      <th>gender</th>\n",
       "      <th>height</th>\n",
       "      <th>weight</th>\n",
       "      <th>ap_hi</th>\n",
       "      <th>ap_lo</th>\n",
       "      <th>cholesterol</th>\n",
       "      <th>gluc</th>\n",
       "      <th>smoke</th>\n",
       "      <th>alco</th>\n",
       "      <th>active</th>\n",
       "      <th>cardio</th>\n",
       "    </tr>\n",
       "  </thead>\n",
       "  <tbody>\n",
       "    <tr>\n",
       "      <th>0</th>\n",
       "      <td>0</td>\n",
       "      <td>18393</td>\n",
       "      <td>2</td>\n",
       "      <td>168</td>\n",
       "      <td>62.0</td>\n",
       "      <td>110</td>\n",
       "      <td>80</td>\n",
       "      <td>1</td>\n",
       "      <td>1</td>\n",
       "      <td>0</td>\n",
       "      <td>0</td>\n",
       "      <td>1</td>\n",
       "      <td>0</td>\n",
       "    </tr>\n",
       "    <tr>\n",
       "      <th>1</th>\n",
       "      <td>1</td>\n",
       "      <td>20228</td>\n",
       "      <td>1</td>\n",
       "      <td>156</td>\n",
       "      <td>85.0</td>\n",
       "      <td>140</td>\n",
       "      <td>90</td>\n",
       "      <td>3</td>\n",
       "      <td>1</td>\n",
       "      <td>0</td>\n",
       "      <td>0</td>\n",
       "      <td>1</td>\n",
       "      <td>1</td>\n",
       "    </tr>\n",
       "    <tr>\n",
       "      <th>2</th>\n",
       "      <td>2</td>\n",
       "      <td>18857</td>\n",
       "      <td>1</td>\n",
       "      <td>165</td>\n",
       "      <td>64.0</td>\n",
       "      <td>130</td>\n",
       "      <td>70</td>\n",
       "      <td>3</td>\n",
       "      <td>1</td>\n",
       "      <td>0</td>\n",
       "      <td>0</td>\n",
       "      <td>0</td>\n",
       "      <td>1</td>\n",
       "    </tr>\n",
       "    <tr>\n",
       "      <th>3</th>\n",
       "      <td>3</td>\n",
       "      <td>17623</td>\n",
       "      <td>2</td>\n",
       "      <td>169</td>\n",
       "      <td>82.0</td>\n",
       "      <td>150</td>\n",
       "      <td>100</td>\n",
       "      <td>1</td>\n",
       "      <td>1</td>\n",
       "      <td>0</td>\n",
       "      <td>0</td>\n",
       "      <td>1</td>\n",
       "      <td>1</td>\n",
       "    </tr>\n",
       "    <tr>\n",
       "      <th>4</th>\n",
       "      <td>4</td>\n",
       "      <td>17474</td>\n",
       "      <td>1</td>\n",
       "      <td>156</td>\n",
       "      <td>56.0</td>\n",
       "      <td>100</td>\n",
       "      <td>60</td>\n",
       "      <td>1</td>\n",
       "      <td>1</td>\n",
       "      <td>0</td>\n",
       "      <td>0</td>\n",
       "      <td>0</td>\n",
       "      <td>0</td>\n",
       "    </tr>\n",
       "  </tbody>\n",
       "</table>\n",
       "</div>"
      ],
      "text/plain": [
       "   id    age  gender  height  weight  ap_hi  ap_lo  cholesterol  gluc  smoke  \\\n",
       "0   0  18393       2     168    62.0    110     80            1     1      0   \n",
       "1   1  20228       1     156    85.0    140     90            3     1      0   \n",
       "2   2  18857       1     165    64.0    130     70            3     1      0   \n",
       "3   3  17623       2     169    82.0    150    100            1     1      0   \n",
       "4   4  17474       1     156    56.0    100     60            1     1      0   \n",
       "\n",
       "   alco  active  cardio  \n",
       "0     0       1       0  \n",
       "1     0       1       1  \n",
       "2     0       0       1  \n",
       "3     0       1       1  \n",
       "4     0       0       0  "
      ]
     },
     "execution_count": 3,
     "metadata": {},
     "output_type": "execute_result"
    }
   ],
   "source": [
    "df.head()"
   ]
  },
  {
   "cell_type": "code",
   "execution_count": 4,
   "id": "e3afdac1",
   "metadata": {
    "id": "e3afdac1"
   },
   "outputs": [
    {
     "name": "stdout",
     "output_type": "stream",
     "text": [
      "<class 'pandas.core.frame.DataFrame'>\n",
      "RangeIndex: 70000 entries, 0 to 69999\n",
      "Data columns (total 13 columns):\n",
      " #   Column       Non-Null Count  Dtype  \n",
      "---  ------       --------------  -----  \n",
      " 0   id           70000 non-null  int64  \n",
      " 1   age          70000 non-null  int64  \n",
      " 2   gender       70000 non-null  int64  \n",
      " 3   height       70000 non-null  int64  \n",
      " 4   weight       70000 non-null  float64\n",
      " 5   ap_hi        70000 non-null  int64  \n",
      " 6   ap_lo        70000 non-null  int64  \n",
      " 7   cholesterol  70000 non-null  int64  \n",
      " 8   gluc         70000 non-null  int64  \n",
      " 9   smoke        70000 non-null  int64  \n",
      " 10  alco         70000 non-null  int64  \n",
      " 11  active       70000 non-null  int64  \n",
      " 12  cardio       70000 non-null  int64  \n",
      "dtypes: float64(1), int64(12)\n",
      "memory usage: 6.9 MB\n"
     ]
    }
   ],
   "source": [
    "df.info()"
   ]
  },
  {
   "cell_type": "code",
   "execution_count": 5,
   "id": "6f759084",
   "metadata": {
    "id": "6f759084"
   },
   "outputs": [
    {
     "data": {
      "text/plain": [
       "(70000, 13)"
      ]
     },
     "execution_count": 5,
     "metadata": {},
     "output_type": "execute_result"
    }
   ],
   "source": [
    "df.shape"
   ]
  },
  {
   "cell_type": "code",
   "execution_count": 6,
   "id": "7bbde1f2",
   "metadata": {
    "id": "7bbde1f2"
   },
   "outputs": [
    {
     "data": {
      "text/html": [
       "<div>\n",
       "<style scoped>\n",
       "    .dataframe tbody tr th:only-of-type {\n",
       "        vertical-align: middle;\n",
       "    }\n",
       "\n",
       "    .dataframe tbody tr th {\n",
       "        vertical-align: top;\n",
       "    }\n",
       "\n",
       "    .dataframe thead th {\n",
       "        text-align: right;\n",
       "    }\n",
       "</style>\n",
       "<table border=\"1\" class=\"dataframe\">\n",
       "  <thead>\n",
       "    <tr style=\"text-align: right;\">\n",
       "      <th></th>\n",
       "      <th>id</th>\n",
       "      <th>age</th>\n",
       "      <th>gender</th>\n",
       "      <th>height</th>\n",
       "      <th>weight</th>\n",
       "      <th>ap_hi</th>\n",
       "      <th>ap_lo</th>\n",
       "      <th>cholesterol</th>\n",
       "      <th>gluc</th>\n",
       "      <th>smoke</th>\n",
       "      <th>alco</th>\n",
       "      <th>active</th>\n",
       "      <th>cardio</th>\n",
       "    </tr>\n",
       "  </thead>\n",
       "  <tbody>\n",
       "    <tr>\n",
       "      <th>count</th>\n",
       "      <td>70000.000000</td>\n",
       "      <td>70000.000000</td>\n",
       "      <td>70000.000000</td>\n",
       "      <td>70000.000000</td>\n",
       "      <td>70000.000000</td>\n",
       "      <td>70000.000000</td>\n",
       "      <td>70000.000000</td>\n",
       "      <td>70000.000000</td>\n",
       "      <td>70000.000000</td>\n",
       "      <td>70000.000000</td>\n",
       "      <td>70000.000000</td>\n",
       "      <td>70000.000000</td>\n",
       "      <td>70000.000000</td>\n",
       "    </tr>\n",
       "    <tr>\n",
       "      <th>mean</th>\n",
       "      <td>49972.419900</td>\n",
       "      <td>19468.865814</td>\n",
       "      <td>1.349571</td>\n",
       "      <td>164.359229</td>\n",
       "      <td>74.205690</td>\n",
       "      <td>128.817286</td>\n",
       "      <td>96.630414</td>\n",
       "      <td>1.366871</td>\n",
       "      <td>1.226457</td>\n",
       "      <td>0.088129</td>\n",
       "      <td>0.053771</td>\n",
       "      <td>0.803729</td>\n",
       "      <td>0.499700</td>\n",
       "    </tr>\n",
       "    <tr>\n",
       "      <th>std</th>\n",
       "      <td>28851.302323</td>\n",
       "      <td>2467.251667</td>\n",
       "      <td>0.476838</td>\n",
       "      <td>8.210126</td>\n",
       "      <td>14.395757</td>\n",
       "      <td>154.011419</td>\n",
       "      <td>188.472530</td>\n",
       "      <td>0.680250</td>\n",
       "      <td>0.572270</td>\n",
       "      <td>0.283484</td>\n",
       "      <td>0.225568</td>\n",
       "      <td>0.397179</td>\n",
       "      <td>0.500003</td>\n",
       "    </tr>\n",
       "    <tr>\n",
       "      <th>min</th>\n",
       "      <td>0.000000</td>\n",
       "      <td>10798.000000</td>\n",
       "      <td>1.000000</td>\n",
       "      <td>55.000000</td>\n",
       "      <td>10.000000</td>\n",
       "      <td>-150.000000</td>\n",
       "      <td>-70.000000</td>\n",
       "      <td>1.000000</td>\n",
       "      <td>1.000000</td>\n",
       "      <td>0.000000</td>\n",
       "      <td>0.000000</td>\n",
       "      <td>0.000000</td>\n",
       "      <td>0.000000</td>\n",
       "    </tr>\n",
       "    <tr>\n",
       "      <th>25%</th>\n",
       "      <td>25006.750000</td>\n",
       "      <td>17664.000000</td>\n",
       "      <td>1.000000</td>\n",
       "      <td>159.000000</td>\n",
       "      <td>65.000000</td>\n",
       "      <td>120.000000</td>\n",
       "      <td>80.000000</td>\n",
       "      <td>1.000000</td>\n",
       "      <td>1.000000</td>\n",
       "      <td>0.000000</td>\n",
       "      <td>0.000000</td>\n",
       "      <td>1.000000</td>\n",
       "      <td>0.000000</td>\n",
       "    </tr>\n",
       "    <tr>\n",
       "      <th>50%</th>\n",
       "      <td>50001.500000</td>\n",
       "      <td>19703.000000</td>\n",
       "      <td>1.000000</td>\n",
       "      <td>165.000000</td>\n",
       "      <td>72.000000</td>\n",
       "      <td>120.000000</td>\n",
       "      <td>80.000000</td>\n",
       "      <td>1.000000</td>\n",
       "      <td>1.000000</td>\n",
       "      <td>0.000000</td>\n",
       "      <td>0.000000</td>\n",
       "      <td>1.000000</td>\n",
       "      <td>0.000000</td>\n",
       "    </tr>\n",
       "    <tr>\n",
       "      <th>75%</th>\n",
       "      <td>74889.250000</td>\n",
       "      <td>21327.000000</td>\n",
       "      <td>2.000000</td>\n",
       "      <td>170.000000</td>\n",
       "      <td>82.000000</td>\n",
       "      <td>140.000000</td>\n",
       "      <td>90.000000</td>\n",
       "      <td>2.000000</td>\n",
       "      <td>1.000000</td>\n",
       "      <td>0.000000</td>\n",
       "      <td>0.000000</td>\n",
       "      <td>1.000000</td>\n",
       "      <td>1.000000</td>\n",
       "    </tr>\n",
       "    <tr>\n",
       "      <th>max</th>\n",
       "      <td>99999.000000</td>\n",
       "      <td>23713.000000</td>\n",
       "      <td>2.000000</td>\n",
       "      <td>250.000000</td>\n",
       "      <td>200.000000</td>\n",
       "      <td>16020.000000</td>\n",
       "      <td>11000.000000</td>\n",
       "      <td>3.000000</td>\n",
       "      <td>3.000000</td>\n",
       "      <td>1.000000</td>\n",
       "      <td>1.000000</td>\n",
       "      <td>1.000000</td>\n",
       "      <td>1.000000</td>\n",
       "    </tr>\n",
       "  </tbody>\n",
       "</table>\n",
       "</div>"
      ],
      "text/plain": [
       "                 id           age        gender        height        weight  \\\n",
       "count  70000.000000  70000.000000  70000.000000  70000.000000  70000.000000   \n",
       "mean   49972.419900  19468.865814      1.349571    164.359229     74.205690   \n",
       "std    28851.302323   2467.251667      0.476838      8.210126     14.395757   \n",
       "min        0.000000  10798.000000      1.000000     55.000000     10.000000   \n",
       "25%    25006.750000  17664.000000      1.000000    159.000000     65.000000   \n",
       "50%    50001.500000  19703.000000      1.000000    165.000000     72.000000   \n",
       "75%    74889.250000  21327.000000      2.000000    170.000000     82.000000   \n",
       "max    99999.000000  23713.000000      2.000000    250.000000    200.000000   \n",
       "\n",
       "              ap_hi         ap_lo   cholesterol          gluc         smoke  \\\n",
       "count  70000.000000  70000.000000  70000.000000  70000.000000  70000.000000   \n",
       "mean     128.817286     96.630414      1.366871      1.226457      0.088129   \n",
       "std      154.011419    188.472530      0.680250      0.572270      0.283484   \n",
       "min     -150.000000    -70.000000      1.000000      1.000000      0.000000   \n",
       "25%      120.000000     80.000000      1.000000      1.000000      0.000000   \n",
       "50%      120.000000     80.000000      1.000000      1.000000      0.000000   \n",
       "75%      140.000000     90.000000      2.000000      1.000000      0.000000   \n",
       "max    16020.000000  11000.000000      3.000000      3.000000      1.000000   \n",
       "\n",
       "               alco        active        cardio  \n",
       "count  70000.000000  70000.000000  70000.000000  \n",
       "mean       0.053771      0.803729      0.499700  \n",
       "std        0.225568      0.397179      0.500003  \n",
       "min        0.000000      0.000000      0.000000  \n",
       "25%        0.000000      1.000000      0.000000  \n",
       "50%        0.000000      1.000000      0.000000  \n",
       "75%        0.000000      1.000000      1.000000  \n",
       "max        1.000000      1.000000      1.000000  "
      ]
     },
     "execution_count": 6,
     "metadata": {},
     "output_type": "execute_result"
    }
   ],
   "source": [
    "df.describe()"
   ]
  },
  {
   "cell_type": "markdown",
   "id": "159ec9ef",
   "metadata": {
    "id": "159ec9ef"
   },
   "source": [
    "⭐Let's get rid of the outliers, moreover blood pressure could not be negative value!"
   ]
  },
  {
   "cell_type": "code",
   "execution_count": null,
   "id": "8943cb72",
   "metadata": {},
   "outputs": [],
   "source": [
    "np.percentile(df['ap_hi'],25)"
   ]
  },
  {
   "cell_type": "code",
   "execution_count": 7,
   "id": "26d4510e",
   "metadata": {},
   "outputs": [],
   "source": [
    "df.drop(df[(df['ap_hi'] > np.percentile(df['ap_hi'],75)+1.5*(np.percentile(df['ap_hi'],75)- np.percentile(df['ap_hi'],25))) | (df['ap_hi'] < np.percentile(df['ap_hi'],25)-1.5*(np.percentile(df['ap_hi'],75)- np.percentile(df['ap_hi'],25)))].index,inplace=True)\n",
    "df.drop(df[(df['ap_lo'] > np.percentile(df['ap_lo'],75)+1.5*(np.percentile(df['ap_lo'],75)- np.percentile(df['ap_lo'],25))) | (df['ap_lo'] < np.percentile(df['ap_lo'],25)-1.5*(np.percentile(df['ap_lo'],75)- np.percentile(df['ap_lo'],25)))].index,inplace=True)"
   ]
  },
  {
   "cell_type": "code",
   "execution_count": null,
   "id": "8badc09f",
   "metadata": {},
   "outputs": [],
   "source": [
    "#df.drop(df[(df['ap_hi'] > df['ap_hi'].quantile(0.975)) | (df['ap_hi'] < df['ap_hi'].quantile(0.025))].index,inplace=True)\n",
    "#df.drop(df[(df['ap_lo'] > df['ap_lo'].quantile(0.975)) | (df['ap_lo'] < df['ap_lo'].quantile(0.025))].index,inplace=True)"
   ]
  },
  {
   "cell_type": "code",
   "execution_count": 8,
   "id": "9b6ebdb6",
   "metadata": {},
   "outputs": [
    {
     "data": {
      "text/plain": [
       "(64502, 13)"
      ]
     },
     "execution_count": 8,
     "metadata": {},
     "output_type": "execute_result"
    }
   ],
   "source": [
    "df.shape"
   ]
  },
  {
   "cell_type": "code",
   "execution_count": 9,
   "id": "6e3a77c0",
   "metadata": {},
   "outputs": [
    {
     "name": "stdout",
     "output_type": "stream",
     "text": [
      "Diastilic pressure is higher than systolic one in 2 cases\n"
     ]
    },
    {
     "data": {
      "image/png": "[encoded data removed]",
      "text/plain": [
       "<Figure size 432x288 with 1 Axes>"
      ]
     },
     "metadata": {
      "needs_background": "light"
     },
     "output_type": "display_data"
    }
   ],
   "source": [
    "blood_pressure = df.loc[:,['ap_lo','ap_hi']]\n",
    "sns.boxplot(x = 'variable',y = 'value',data = blood_pressure.melt())\n",
    "print(\"Diastilic pressure is higher than systolic one in {0} cases\".format(df[df['ap_lo']> df['ap_hi']].shape[0]))"
   ]
  },
  {
   "cell_type": "markdown",
   "id": "fb035634",
   "metadata": {
    "id": "fb035634"
   },
   "source": [
    "## Task-1. Is the Systolic blood pressure population mean 122mmhg?"
   ]
  },
  {
   "cell_type": "markdown",
   "id": "604a6bbe",
   "metadata": {
    "id": "604a6bbe"
   },
   "source": [
    "ap_hi => It's the Systolic blood pressure i.e. Pressure exerted when Blood is ejected in arteries. Normal value : 122 mm Hg for all adults aged 18 and over"
   ]
  },
  {
   "cell_type": "markdown",
   "id": "bb6ca4cf",
   "metadata": {
    "id": "bb6ca4cf"
   },
   "source": [
    "⭐What is the mean for Systolic blood pressure?"
   ]
  },
  {
   "cell_type": "code",
   "execution_count": 10,
   "id": "5bc33ad7",
   "metadata": {
    "id": "5bc33ad7"
   },
   "outputs": [
    {
     "data": {
      "text/plain": [
       "126.6234690397197"
      ]
     },
     "execution_count": 10,
     "metadata": {},
     "output_type": "execute_result"
    }
   ],
   "source": [
    "df.ap_hi.mean()"
   ]
  },
  {
   "cell_type": "markdown",
   "id": "KX4IjRriZzAi",
   "metadata": {
    "id": "KX4IjRriZzAi"
   },
   "source": [
    "⭐What is the standard deviation for Systolic blood pressure?"
   ]
  },
  {
   "cell_type": "code",
   "execution_count": 11,
   "id": "69d481ee",
   "metadata": {
    "id": "69d481ee"
   },
   "outputs": [
    {
     "data": {
      "text/plain": [
       "14.384631805146347"
      ]
     },
     "execution_count": 11,
     "metadata": {},
     "output_type": "execute_result"
    }
   ],
   "source": [
    "df.ap_hi.std()"
   ]
  },
  {
   "cell_type": "markdown",
   "id": "uUV8XmvbZ2aI",
   "metadata": {
    "id": "uUV8XmvbZ2aI"
   },
   "source": [
    "⭐What is the standard error of the mean for Systolic blood pressure?"
   ]
  },
  {
   "cell_type": "code",
   "execution_count": 12,
   "id": "135778c0",
   "metadata": {
    "id": "135778c0"
   },
   "outputs": [
    {
     "data": {
      "text/plain": [
       "0.056638554310530935"
      ]
     },
     "execution_count": 12,
     "metadata": {},
     "output_type": "execute_result"
    }
   ],
   "source": [
    "sem = df.ap_hi.std()/np.sqrt(df.ap_hi.shape[0])\n",
    "sem"
   ]
  },
  {
   "cell_type": "code",
   "execution_count": 13,
   "id": "dc4644c7",
   "metadata": {},
   "outputs": [
    {
     "data": {
      "text/plain": [
       "0.056638554310530935"
      ]
     },
     "execution_count": 13,
     "metadata": {},
     "output_type": "execute_result"
    }
   ],
   "source": [
    "df[\"ap_hi\"].sem()"
   ]
  },
  {
   "cell_type": "markdown",
   "id": "0QRScuBloYmt",
   "metadata": {
    "id": "0QRScuBloYmt"
   },
   "source": [
    "⭐What are the descriptive statistics of the mean for Systolic blood pressure?"
   ]
  },
  {
   "cell_type": "code",
   "execution_count": 14,
   "id": "8c5bb6c4",
   "metadata": {
    "id": "8c5bb6c4"
   },
   "outputs": [
    {
     "data": {
      "text/plain": [
       "count    64502.000000\n",
       "mean       126.623469\n",
       "std         14.384632\n",
       "min         90.000000\n",
       "25%        120.000000\n",
       "50%        120.000000\n",
       "75%        140.000000\n",
       "max        170.000000\n",
       "Name: ap_hi, dtype: float64"
      ]
     },
     "execution_count": 14,
     "metadata": {},
     "output_type": "execute_result"
    }
   ],
   "source": [
    "df.ap_hi.describe()"
   ]
  },
  {
   "cell_type": "markdown",
   "id": "70b4dcd2",
   "metadata": {
    "id": "70b4dcd2"
   },
   "source": [
    "## Confidence Interval using the t Distribution\n",
    "\n",
    "Key Notes about Confidence Intervals\n",
    "\n",
    "💡A point estimate is a single number.\n",
    "\n",
    "💡A confidence interval, naturally, is an interval.\n",
    "\n",
    "💡Confidence intervals are the typical way to present estimates as an interval range.\n",
    "\n",
    "💡The point estimate is located exactly in the middle of the confidence interval.\n",
    "\n",
    "💡However, confidence intervals provide much more information and are preferred when making inferences.\n",
    "\n",
    "💡The more data you have, the less variable a sample estimate will be.\n",
    "\n",
    "💡The lower the level of confidence you can tolerate, the narrower the confidence interval will be.\n",
    "\n",
    "⭐Investigate the given task by calculating the confidence interval. (Use 90%, 95% and 99% CIs)"
   ]
  },
  {
   "cell_type": "code",
   "execution_count": 15,
   "id": "86530d0e",
   "metadata": {
    "id": "86530d0e"
   },
   "outputs": [
    {
     "data": {
      "text/plain": [
       "(126.53030557019036, 126.71663250924902)"
      ]
     },
     "execution_count": 15,
     "metadata": {},
     "output_type": "execute_result"
    }
   ],
   "source": [
    "stats.t.interval(0.90, len(df[\"ap_hi\"])-1, loc=df[\"ap_hi\"].mean(), scale=df[\"ap_hi\"].sem())"
   ]
  },
  {
   "cell_type": "code",
   "execution_count": 16,
   "id": "6856a34a",
   "metadata": {},
   "outputs": [
    {
     "data": {
      "text/plain": [
       "(126.51245742999653, 126.73448064944286)"
      ]
     },
     "execution_count": 16,
     "metadata": {},
     "output_type": "execute_result"
    }
   ],
   "source": [
    "stats.t.interval(0.95, len(df[\"ap_hi\"])-1, loc=df[\"ap_hi\"].mean(), scale=df[\"ap_hi\"].sem())"
   ]
  },
  {
   "cell_type": "code",
   "execution_count": 17,
   "id": "aba1b36c",
   "metadata": {},
   "outputs": [
    {
     "data": {
      "text/plain": [
       "(126.47757347445801, 126.76936460498138)"
      ]
     },
     "execution_count": 17,
     "metadata": {},
     "output_type": "execute_result"
    }
   ],
   "source": [
    "stats.t.interval(0.99, len(df[\"ap_hi\"])-1, loc=df[\"ap_hi\"].mean(), scale=df[\"ap_hi\"].sem())"
   ]
  },
  {
   "cell_type": "code",
   "execution_count": null,
   "id": "753f46b8",
   "metadata": {},
   "outputs": [],
   "source": [
    "df[\"ap_hi\"].sem()"
   ]
  },
  {
   "cell_type": "markdown",
   "id": "b8ea993c",
   "metadata": {
    "id": "b8ea993c"
   },
   "source": [
    "## One Sample t Test"
   ]
  },
  {
   "cell_type": "markdown",
   "id": "3b0b1513",
   "metadata": {
    "id": "3b0b1513"
   },
   "source": [
    "⭐Investigate the given task by using One Sample t Test.\n",
    "\n",
    "Key Notes about Hypothesis Testing (Significance Testing)\n",
    "\n",
    "💡Assumptions\n",
    "\n",
    "💡Null and Alternative Hypothesis\n",
    "\n",
    "💡Test Statistic\n",
    "\n",
    "💡P-value\n",
    "\n",
    "💡Conclusion"
   ]
  },
  {
   "cell_type": "markdown",
   "id": "815c7c17",
   "metadata": {
    "id": "815c7c17"
   },
   "source": [
    "Conduct the significance test. Use scipy.stats.ttest_1samp"
   ]
  },
  {
   "cell_type": "code",
   "execution_count": 24,
   "id": "6231ec49",
   "metadata": {
    "id": "6231ec49"
   },
   "outputs": [
    {
     "data": {
      "text/plain": [
       "Ttest_1sampResult(statistic=11.007855820287059, pvalue=3.710702881423573e-28)"
      ]
     },
     "execution_count": 24,
     "metadata": {},
     "output_type": "execute_result"
    }
   ],
   "source": [
    "onesample = stats.ttest_1samp(df[\"ap_hi\"], 126)\n",
    "onesample"
   ]
  },
  {
   "cell_type": "code",
   "execution_count": 25,
   "id": "c6343ddb",
   "metadata": {
    "id": "c6343ddb"
   },
   "outputs": [
    {
     "name": "stdout",
     "output_type": "stream",
     "text": [
      "At 0.05 level of significance, we can reject the null hypothesis in favor of alternative hypothesis.\n"
     ]
    }
   ],
   "source": [
    "if onesample.pvalue<0.05:\n",
    "    print('At {} level of significance, we can reject the null hypothesis in favor of alternative hypothesis.'.format(0.05))\n",
    "else:\n",
    "    print('At {} level of significance, we fail to reject the null hypothesis.'.format(0.05))"
   ]
  },
  {
   "cell_type": "markdown",
   "id": "e273e0c2",
   "metadata": {
    "id": "e273e0c2"
   },
   "source": [
    "## Task-2. Is There a Significant Difference Between Males and Females in Systolic Blood Pressure?\n",
    "\n",
    "H0: µ1 = µ2 (\"the two population means are equal\")\n",
    "\n",
    "H1: µ1 ≠ µ2 (\"the two population means are not equal\")"
   ]
  },
  {
   "cell_type": "markdown",
   "id": "f924f82e",
   "metadata": {
    "id": "f924f82e"
   },
   "source": [
    "⭐Show descriptives for 2 groups"
   ]
  },
  {
   "cell_type": "code",
   "execution_count": 26,
   "id": "a6398b26",
   "metadata": {
    "id": "a6398b26"
   },
   "outputs": [
    {
     "data": {
      "text/html": [
       "<div>\n",
       "<style scoped>\n",
       "    .dataframe tbody tr th:only-of-type {\n",
       "        vertical-align: middle;\n",
       "    }\n",
       "\n",
       "    .dataframe tbody tr th {\n",
       "        vertical-align: top;\n",
       "    }\n",
       "\n",
       "    .dataframe thead tr th {\n",
       "        text-align: left;\n",
       "    }\n",
       "\n",
       "    .dataframe thead tr:last-of-type th {\n",
       "        text-align: right;\n",
       "    }\n",
       "</style>\n",
       "<table border=\"1\" class=\"dataframe\">\n",
       "  <thead>\n",
       "    <tr>\n",
       "      <th></th>\n",
       "      <th colspan=\"8\" halign=\"left\">id</th>\n",
       "      <th colspan=\"2\" halign=\"left\">age</th>\n",
       "      <th>...</th>\n",
       "      <th colspan=\"2\" halign=\"left\">active</th>\n",
       "      <th colspan=\"8\" halign=\"left\">cardio</th>\n",
       "    </tr>\n",
       "    <tr>\n",
       "      <th></th>\n",
       "      <th>count</th>\n",
       "      <th>mean</th>\n",
       "      <th>std</th>\n",
       "      <th>min</th>\n",
       "      <th>25%</th>\n",
       "      <th>50%</th>\n",
       "      <th>75%</th>\n",
       "      <th>max</th>\n",
       "      <th>count</th>\n",
       "      <th>mean</th>\n",
       "      <th>...</th>\n",
       "      <th>75%</th>\n",
       "      <th>max</th>\n",
       "      <th>count</th>\n",
       "      <th>mean</th>\n",
       "      <th>std</th>\n",
       "      <th>min</th>\n",
       "      <th>25%</th>\n",
       "      <th>50%</th>\n",
       "      <th>75%</th>\n",
       "      <th>max</th>\n",
       "    </tr>\n",
       "    <tr>\n",
       "      <th>gender</th>\n",
       "      <th></th>\n",
       "      <th></th>\n",
       "      <th></th>\n",
       "      <th></th>\n",
       "      <th></th>\n",
       "      <th></th>\n",
       "      <th></th>\n",
       "      <th></th>\n",
       "      <th></th>\n",
       "      <th></th>\n",
       "      <th></th>\n",
       "      <th></th>\n",
       "      <th></th>\n",
       "      <th></th>\n",
       "      <th></th>\n",
       "      <th></th>\n",
       "      <th></th>\n",
       "      <th></th>\n",
       "      <th></th>\n",
       "      <th></th>\n",
       "      <th></th>\n",
       "    </tr>\n",
       "  </thead>\n",
       "  <tbody>\n",
       "    <tr>\n",
       "      <th>1</th>\n",
       "      <td>41804.0</td>\n",
       "      <td>49882.910750</td>\n",
       "      <td>28778.136224</td>\n",
       "      <td>1.0</td>\n",
       "      <td>24921.75</td>\n",
       "      <td>50005.0</td>\n",
       "      <td>74557.75</td>\n",
       "      <td>99999.0</td>\n",
       "      <td>41804.0</td>\n",
       "      <td>19550.990766</td>\n",
       "      <td>...</td>\n",
       "      <td>1.0</td>\n",
       "      <td>1.0</td>\n",
       "      <td>41804.0</td>\n",
       "      <td>0.499211</td>\n",
       "      <td>0.500005</td>\n",
       "      <td>0.0</td>\n",
       "      <td>0.0</td>\n",
       "      <td>0.0</td>\n",
       "      <td>1.0</td>\n",
       "      <td>1.0</td>\n",
       "    </tr>\n",
       "    <tr>\n",
       "      <th>2</th>\n",
       "      <td>22698.0</td>\n",
       "      <td>50120.514054</td>\n",
       "      <td>28998.290468</td>\n",
       "      <td>0.0</td>\n",
       "      <td>24934.00</td>\n",
       "      <td>50022.5</td>\n",
       "      <td>75457.75</td>\n",
       "      <td>99993.0</td>\n",
       "      <td>22698.0</td>\n",
       "      <td>19383.155036</td>\n",
       "      <td>...</td>\n",
       "      <td>1.0</td>\n",
       "      <td>1.0</td>\n",
       "      <td>22698.0</td>\n",
       "      <td>0.496872</td>\n",
       "      <td>0.500001</td>\n",
       "      <td>0.0</td>\n",
       "      <td>0.0</td>\n",
       "      <td>0.0</td>\n",
       "      <td>1.0</td>\n",
       "      <td>1.0</td>\n",
       "    </tr>\n",
       "  </tbody>\n",
       "</table>\n",
       "<p>2 rows × 96 columns</p>\n",
       "</div>"
      ],
      "text/plain": [
       "             id                                                                \\\n",
       "          count          mean           std  min       25%      50%       75%   \n",
       "gender                                                                          \n",
       "1       41804.0  49882.910750  28778.136224  1.0  24921.75  50005.0  74557.75   \n",
       "2       22698.0  50120.514054  28998.290468  0.0  24934.00  50022.5  75457.75   \n",
       "\n",
       "                     age                ... active        cardio            \\\n",
       "            max    count          mean  ...    75%  max    count      mean   \n",
       "gender                                  ...                                  \n",
       "1       99999.0  41804.0  19550.990766  ...    1.0  1.0  41804.0  0.499211   \n",
       "2       99993.0  22698.0  19383.155036  ...    1.0  1.0  22698.0  0.496872   \n",
       "\n",
       "                                           \n",
       "             std  min  25%  50%  75%  max  \n",
       "gender                                     \n",
       "1       0.500005  0.0  0.0  0.0  1.0  1.0  \n",
       "2       0.500001  0.0  0.0  0.0  1.0  1.0  \n",
       "\n",
       "[2 rows x 96 columns]"
      ]
     },
     "execution_count": 26,
     "metadata": {},
     "output_type": "execute_result"
    }
   ],
   "source": [
    "df.groupby(\"gender\").describe()"
   ]
  },
  {
   "cell_type": "code",
   "execution_count": 27,
   "id": "e699fd21",
   "metadata": {},
   "outputs": [
    {
     "data": {
      "text/html": [
       "<div>\n",
       "<style scoped>\n",
       "    .dataframe tbody tr th:only-of-type {\n",
       "        vertical-align: middle;\n",
       "    }\n",
       "\n",
       "    .dataframe tbody tr th {\n",
       "        vertical-align: top;\n",
       "    }\n",
       "\n",
       "    .dataframe thead th {\n",
       "        text-align: right;\n",
       "    }\n",
       "</style>\n",
       "<table border=\"1\" class=\"dataframe\">\n",
       "  <thead>\n",
       "    <tr style=\"text-align: right;\">\n",
       "      <th></th>\n",
       "      <th>count</th>\n",
       "      <th>mean</th>\n",
       "      <th>std</th>\n",
       "      <th>min</th>\n",
       "      <th>25%</th>\n",
       "      <th>50%</th>\n",
       "      <th>75%</th>\n",
       "      <th>max</th>\n",
       "    </tr>\n",
       "    <tr>\n",
       "      <th>gender</th>\n",
       "      <th></th>\n",
       "      <th></th>\n",
       "      <th></th>\n",
       "      <th></th>\n",
       "      <th></th>\n",
       "      <th></th>\n",
       "      <th></th>\n",
       "      <th></th>\n",
       "    </tr>\n",
       "  </thead>\n",
       "  <tbody>\n",
       "    <tr>\n",
       "      <th>1</th>\n",
       "      <td>41804.0</td>\n",
       "      <td>126.157616</td>\n",
       "      <td>14.476884</td>\n",
       "      <td>90.0</td>\n",
       "      <td>120.0</td>\n",
       "      <td>120.0</td>\n",
       "      <td>140.0</td>\n",
       "      <td>170.0</td>\n",
       "    </tr>\n",
       "    <tr>\n",
       "      <th>2</th>\n",
       "      <td>22698.0</td>\n",
       "      <td>127.481452</td>\n",
       "      <td>14.173462</td>\n",
       "      <td>90.0</td>\n",
       "      <td>120.0</td>\n",
       "      <td>120.0</td>\n",
       "      <td>140.0</td>\n",
       "      <td>170.0</td>\n",
       "    </tr>\n",
       "  </tbody>\n",
       "</table>\n",
       "</div>"
      ],
      "text/plain": [
       "          count        mean        std   min    25%    50%    75%    max\n",
       "gender                                                                  \n",
       "1       41804.0  126.157616  14.476884  90.0  120.0  120.0  140.0  170.0\n",
       "2       22698.0  127.481452  14.173462  90.0  120.0  120.0  140.0  170.0"
      ]
     },
     "execution_count": 27,
     "metadata": {},
     "output_type": "execute_result"
    }
   ],
   "source": [
    "df.groupby(\"gender\")[\"ap_hi\"].describe()"
   ]
  },
  {
   "cell_type": "code",
   "execution_count": 29,
   "id": "20e5300f",
   "metadata": {},
   "outputs": [],
   "source": [
    "women=df[df[\"gender\"]==1]['ap_hi']\n",
    "men=df[df[\"gender\"]==2]['ap_hi']"
   ]
  },
  {
   "cell_type": "markdown",
   "id": "84bd1c6e",
   "metadata": {
    "id": "84bd1c6e"
   },
   "source": [
    "___🚀Test the assumption of homogeneity of variance Hint: Levene’s Test\n",
    "\n",
    "The hypotheses for Levene’s test are:\n",
    "\n",
    "H0: \"the population variances of group 1 and 2 are equal\"\n",
    "\n",
    "H1: \"the population variances of group 1 and 2 are not equal\""
   ]
  },
  {
   "cell_type": "code",
   "execution_count": 30,
   "id": "e6ea62f8",
   "metadata": {
    "id": "e6ea62f8"
   },
   "outputs": [
    {
     "data": {
      "text/plain": [
       "LeveneResult(statistic=0.07202882434540404, pvalue=0.7884062571644008)"
      ]
     },
     "execution_count": 30,
     "metadata": {},
     "output_type": "execute_result"
    }
   ],
   "source": [
    "leveneTest = stats.levene(men, women)\n",
    "leveneTest"
   ]
  },
  {
   "cell_type": "code",
   "execution_count": 31,
   "id": "bf19ddb1",
   "metadata": {},
   "outputs": [
    {
     "data": {
      "text/plain": [
       "0.7884062571644008"
      ]
     },
     "execution_count": 31,
     "metadata": {},
     "output_type": "execute_result"
    }
   ],
   "source": [
    "leveneTest.pvalue"
   ]
  },
  {
   "cell_type": "markdown",
   "id": "4c7bfaf0",
   "metadata": {
    "id": "4c7bfaf0"
   },
   "source": [
    "___🚀Conduct the significance test. Use scipy.stats.ttest_ind\n",
    "\n",
    "H0: µ1 = µ2 (\"the two population means are equal\")\n",
    "\n",
    "H1: µ1 ≠ µ2 (\"the two population means are not equal\")"
   ]
  },
  {
   "cell_type": "code",
   "execution_count": 32,
   "id": "4c0b1baa",
   "metadata": {
    "id": "4c0b1baa"
   },
   "outputs": [
    {
     "name": "stdout",
     "output_type": "stream",
     "text": [
      "Fail to reject the null.\n"
     ]
    }
   ],
   "source": [
    "# Decision\n",
    "alpha = 0.05\n",
    "\n",
    "if leveneTest.pvalue < alpha:\n",
    "    print(\"Reject the null\")\n",
    "else:\n",
    "    print(\"Fail to reject the null.\")"
   ]
  },
  {
   "cell_type": "code",
   "execution_count": 33,
   "id": "4bb57e4e",
   "metadata": {},
   "outputs": [
    {
     "data": {
      "text/plain": [
       "Ttest_indResult(statistic=11.17295204131143, pvalue=5.880742765124214e-29)"
      ]
     },
     "execution_count": 33,
     "metadata": {},
     "output_type": "execute_result"
    }
   ],
   "source": [
    "indTest = stats.ttest_ind(men, women, equal_var = True)\n",
    "indTest"
   ]
  },
  {
   "cell_type": "code",
   "execution_count": 34,
   "id": "56e22d68",
   "metadata": {},
   "outputs": [
    {
     "name": "stdout",
     "output_type": "stream",
     "text": [
      "Reject the null\n"
     ]
    }
   ],
   "source": [
    "# Decision\n",
    "alpha = 0.05\n",
    "\n",
    "if indTest.pvalue < alpha:\n",
    "    print(\"Reject the null\")\n",
    "else:\n",
    "    print(\"Fail to reject the null.\")"
   ]
  },
  {
   "cell_type": "markdown",
   "id": "b649ecf9",
   "metadata": {
    "id": "b649ecf9"
   },
   "source": [
    "## Task-3. Is There a Relationship Between Glucose and Systolic Blood Pressure?"
   ]
  },
  {
   "cell_type": "markdown",
   "id": "iQnNlpE2nXym",
   "metadata": {
    "id": "iQnNlpE2nXym"
   },
   "source": [
    "⭐Draw a boxplot to see the relationship."
   ]
  },
  {
   "cell_type": "code",
   "execution_count": 38,
   "id": "830810ff",
   "metadata": {
    "id": "830810ff"
   },
   "outputs": [
    {
     "data": {
      "image/png": "[encoded data removed]",
      "text/plain": [
       "<Figure size 432x288 with 1 Axes>"
      ]
     },
     "metadata": {
      "needs_background": "light"
     },
     "output_type": "display_data"
    }
   ],
   "source": [
    "sns.boxplot(x = 'gluc',y = 'ap_hi',data=df)\n",
    "plt.show()"
   ]
  },
  {
   "cell_type": "markdown",
   "id": "R5W3NypFniN_",
   "metadata": {
    "id": "R5W3NypFniN_"
   },
   "source": [
    "⭐Show the descriptive statistics of 3 groups."
   ]
  },
  {
   "cell_type": "code",
   "execution_count": 39,
   "id": "c48159b9",
   "metadata": {
    "id": "c48159b9"
   },
   "outputs": [
    {
     "data": {
      "text/html": [
       "<div>\n",
       "<style scoped>\n",
       "    .dataframe tbody tr th:only-of-type {\n",
       "        vertical-align: middle;\n",
       "    }\n",
       "\n",
       "    .dataframe tbody tr th {\n",
       "        vertical-align: top;\n",
       "    }\n",
       "\n",
       "    .dataframe thead tr th {\n",
       "        text-align: left;\n",
       "    }\n",
       "\n",
       "    .dataframe thead tr:last-of-type th {\n",
       "        text-align: right;\n",
       "    }\n",
       "</style>\n",
       "<table border=\"1\" class=\"dataframe\">\n",
       "  <thead>\n",
       "    <tr>\n",
       "      <th></th>\n",
       "      <th colspan=\"8\" halign=\"left\">id</th>\n",
       "      <th colspan=\"2\" halign=\"left\">age</th>\n",
       "      <th>...</th>\n",
       "      <th colspan=\"2\" halign=\"left\">active</th>\n",
       "      <th colspan=\"8\" halign=\"left\">cardio</th>\n",
       "    </tr>\n",
       "    <tr>\n",
       "      <th></th>\n",
       "      <th>count</th>\n",
       "      <th>mean</th>\n",
       "      <th>std</th>\n",
       "      <th>min</th>\n",
       "      <th>25%</th>\n",
       "      <th>50%</th>\n",
       "      <th>75%</th>\n",
       "      <th>max</th>\n",
       "      <th>count</th>\n",
       "      <th>mean</th>\n",
       "      <th>...</th>\n",
       "      <th>75%</th>\n",
       "      <th>max</th>\n",
       "      <th>count</th>\n",
       "      <th>mean</th>\n",
       "      <th>std</th>\n",
       "      <th>min</th>\n",
       "      <th>25%</th>\n",
       "      <th>50%</th>\n",
       "      <th>75%</th>\n",
       "      <th>max</th>\n",
       "    </tr>\n",
       "    <tr>\n",
       "      <th>gluc</th>\n",
       "      <th></th>\n",
       "      <th></th>\n",
       "      <th></th>\n",
       "      <th></th>\n",
       "      <th></th>\n",
       "      <th></th>\n",
       "      <th></th>\n",
       "      <th></th>\n",
       "      <th></th>\n",
       "      <th></th>\n",
       "      <th></th>\n",
       "      <th></th>\n",
       "      <th></th>\n",
       "      <th></th>\n",
       "      <th></th>\n",
       "      <th></th>\n",
       "      <th></th>\n",
       "      <th></th>\n",
       "      <th></th>\n",
       "      <th></th>\n",
       "      <th></th>\n",
       "    </tr>\n",
       "  </thead>\n",
       "  <tbody>\n",
       "    <tr>\n",
       "      <th>1</th>\n",
       "      <td>54888.0</td>\n",
       "      <td>49931.019112</td>\n",
       "      <td>28858.466604</td>\n",
       "      <td>0.0</td>\n",
       "      <td>24878.75</td>\n",
       "      <td>49927.0</td>\n",
       "      <td>74894.5</td>\n",
       "      <td>99999.0</td>\n",
       "      <td>54888.0</td>\n",
       "      <td>19403.072129</td>\n",
       "      <td>...</td>\n",
       "      <td>1.0</td>\n",
       "      <td>1.0</td>\n",
       "      <td>54888.0</td>\n",
       "      <td>0.480178</td>\n",
       "      <td>0.499611</td>\n",
       "      <td>0.0</td>\n",
       "      <td>0.0</td>\n",
       "      <td>0.0</td>\n",
       "      <td>1.0</td>\n",
       "      <td>1.0</td>\n",
       "    </tr>\n",
       "    <tr>\n",
       "      <th>2</th>\n",
       "      <td>4673.0</td>\n",
       "      <td>50215.920394</td>\n",
       "      <td>29042.883803</td>\n",
       "      <td>8.0</td>\n",
       "      <td>24843.00</td>\n",
       "      <td>50932.0</td>\n",
       "      <td>74955.0</td>\n",
       "      <td>99998.0</td>\n",
       "      <td>4673.0</td>\n",
       "      <td>19707.029959</td>\n",
       "      <td>...</td>\n",
       "      <td>1.0</td>\n",
       "      <td>1.0</td>\n",
       "      <td>4673.0</td>\n",
       "      <td>0.586133</td>\n",
       "      <td>0.492578</td>\n",
       "      <td>0.0</td>\n",
       "      <td>0.0</td>\n",
       "      <td>1.0</td>\n",
       "      <td>1.0</td>\n",
       "      <td>1.0</td>\n",
       "    </tr>\n",
       "    <tr>\n",
       "      <th>3</th>\n",
       "      <td>4941.0</td>\n",
       "      <td>50125.046752</td>\n",
       "      <td>28652.055476</td>\n",
       "      <td>12.0</td>\n",
       "      <td>25637.00</td>\n",
       "      <td>50180.0</td>\n",
       "      <td>74634.0</td>\n",
       "      <td>99940.0</td>\n",
       "      <td>4941.0</td>\n",
       "      <td>20275.591378</td>\n",
       "      <td>...</td>\n",
       "      <td>1.0</td>\n",
       "      <td>1.0</td>\n",
       "      <td>4941.0</td>\n",
       "      <td>0.617689</td>\n",
       "      <td>0.486001</td>\n",
       "      <td>0.0</td>\n",
       "      <td>0.0</td>\n",
       "      <td>1.0</td>\n",
       "      <td>1.0</td>\n",
       "      <td>1.0</td>\n",
       "    </tr>\n",
       "  </tbody>\n",
       "</table>\n",
       "<p>3 rows × 96 columns</p>\n",
       "</div>"
      ],
      "text/plain": [
       "           id                                                                \\\n",
       "        count          mean           std   min       25%      50%      75%   \n",
       "gluc                                                                          \n",
       "1     54888.0  49931.019112  28858.466604   0.0  24878.75  49927.0  74894.5   \n",
       "2      4673.0  50215.920394  29042.883803   8.0  24843.00  50932.0  74955.0   \n",
       "3      4941.0  50125.046752  28652.055476  12.0  25637.00  50180.0  74634.0   \n",
       "\n",
       "                   age                ... active        cardio            \\\n",
       "          max    count          mean  ...    75%  max    count      mean   \n",
       "gluc                                  ...                                  \n",
       "1     99999.0  54888.0  19403.072129  ...    1.0  1.0  54888.0  0.480178   \n",
       "2     99998.0   4673.0  19707.029959  ...    1.0  1.0   4673.0  0.586133   \n",
       "3     99940.0   4941.0  20275.591378  ...    1.0  1.0   4941.0  0.617689   \n",
       "\n",
       "                                         \n",
       "           std  min  25%  50%  75%  max  \n",
       "gluc                                     \n",
       "1     0.499611  0.0  0.0  0.0  1.0  1.0  \n",
       "2     0.492578  0.0  0.0  1.0  1.0  1.0  \n",
       "3     0.486001  0.0  0.0  1.0  1.0  1.0  \n",
       "\n",
       "[3 rows x 96 columns]"
      ]
     },
     "execution_count": 39,
     "metadata": {},
     "output_type": "execute_result"
    }
   ],
   "source": [
    "df.groupby(\"gluc\").describe()"
   ]
  },
  {
   "cell_type": "code",
   "execution_count": 40,
   "id": "0c545ade",
   "metadata": {},
   "outputs": [
    {
     "data": {
      "text/html": [
       "<div>\n",
       "<style scoped>\n",
       "    .dataframe tbody tr th:only-of-type {\n",
       "        vertical-align: middle;\n",
       "    }\n",
       "\n",
       "    .dataframe tbody tr th {\n",
       "        vertical-align: top;\n",
       "    }\n",
       "\n",
       "    .dataframe thead th {\n",
       "        text-align: right;\n",
       "    }\n",
       "</style>\n",
       "<table border=\"1\" class=\"dataframe\">\n",
       "  <thead>\n",
       "    <tr style=\"text-align: right;\">\n",
       "      <th></th>\n",
       "      <th>count</th>\n",
       "      <th>mean</th>\n",
       "      <th>std</th>\n",
       "      <th>min</th>\n",
       "      <th>25%</th>\n",
       "      <th>50%</th>\n",
       "      <th>75%</th>\n",
       "      <th>max</th>\n",
       "    </tr>\n",
       "    <tr>\n",
       "      <th>gluc</th>\n",
       "      <th></th>\n",
       "      <th></th>\n",
       "      <th></th>\n",
       "      <th></th>\n",
       "      <th></th>\n",
       "      <th></th>\n",
       "      <th></th>\n",
       "      <th></th>\n",
       "    </tr>\n",
       "  </thead>\n",
       "  <tbody>\n",
       "    <tr>\n",
       "      <th>1</th>\n",
       "      <td>54888.0</td>\n",
       "      <td>126.034743</td>\n",
       "      <td>14.177735</td>\n",
       "      <td>90.0</td>\n",
       "      <td>120.0</td>\n",
       "      <td>120.0</td>\n",
       "      <td>135.0</td>\n",
       "      <td>170.0</td>\n",
       "    </tr>\n",
       "    <tr>\n",
       "      <th>2</th>\n",
       "      <td>4673.0</td>\n",
       "      <td>130.407447</td>\n",
       "      <td>16.224375</td>\n",
       "      <td>90.0</td>\n",
       "      <td>120.0</td>\n",
       "      <td>130.0</td>\n",
       "      <td>140.0</td>\n",
       "      <td>170.0</td>\n",
       "    </tr>\n",
       "    <tr>\n",
       "      <th>3</th>\n",
       "      <td>4941.0</td>\n",
       "      <td>129.584699</td>\n",
       "      <td>13.900935</td>\n",
       "      <td>90.0</td>\n",
       "      <td>120.0</td>\n",
       "      <td>130.0</td>\n",
       "      <td>140.0</td>\n",
       "      <td>170.0</td>\n",
       "    </tr>\n",
       "  </tbody>\n",
       "</table>\n",
       "</div>"
      ],
      "text/plain": [
       "        count        mean        std   min    25%    50%    75%    max\n",
       "gluc                                                                  \n",
       "1     54888.0  126.034743  14.177735  90.0  120.0  120.0  135.0  170.0\n",
       "2      4673.0  130.407447  16.224375  90.0  120.0  130.0  140.0  170.0\n",
       "3      4941.0  129.584699  13.900935  90.0  120.0  130.0  140.0  170.0"
      ]
     },
     "execution_count": 40,
     "metadata": {},
     "output_type": "execute_result"
    }
   ],
   "source": [
    "df.groupby(\"gluc\")[\"ap_hi\"].describe()"
   ]
  },
  {
   "cell_type": "markdown",
   "id": "6vx5akalnpn3",
   "metadata": {
    "id": "6vx5akalnpn3"
   },
   "source": [
    "⭐Conduct the relavant statistical test to see if there is a significant difference between the mean of the groups."
   ]
  },
  {
   "cell_type": "code",
   "execution_count": 52,
   "id": "e32d4c73",
   "metadata": {},
   "outputs": [
    {
     "data": {
      "text/plain": [
       "0        1\n",
       "1        1\n",
       "2        0\n",
       "3        1\n",
       "5        0\n",
       "        ..\n",
       "69994    1\n",
       "69995    1\n",
       "69996    1\n",
       "69998    0\n",
       "69999    1\n",
       "Name: active, Length: 64502, dtype: int64"
      ]
     },
     "execution_count": 52,
     "metadata": {},
     "output_type": "execute_result"
    }
   ],
   "source": [
    "df['active']"
   ]
  },
  {
   "cell_type": "code",
   "execution_count": 41,
   "id": "5d8a2494",
   "metadata": {},
   "outputs": [],
   "source": [
    "g1=df[df[\"gluc\"]==1]['ap_hi']\n",
    "g2=df[df[\"gluc\"]==2]['ap_hi']\n",
    "g3=df[df[\"gluc\"]==3]['ap_hi']"
   ]
  },
  {
   "cell_type": "code",
   "execution_count": 44,
   "id": "f63c6ce5",
   "metadata": {
    "id": "f63c6ce5"
   },
   "outputs": [
    {
     "data": {
      "text/plain": [
       "F_onewayResult(statistic=315.3949025610783, pvalue=4.911250680604928e-137)"
      ]
     },
     "execution_count": 44,
     "metadata": {},
     "output_type": "execute_result"
    }
   ],
   "source": [
    "anova_test = stats.f_oneway((g1), (g2),(g3))\n",
    "anova_test"
   ]
  },
  {
   "cell_type": "code",
   "execution_count": 45,
   "id": "4e68ebab",
   "metadata": {
    "id": "4e68ebab"
   },
   "outputs": [
    {
     "name": "stdout",
     "output_type": "stream",
     "text": [
      "Reject the Null\n"
     ]
    }
   ],
   "source": [
    "# Decision\n",
    "alpha = 0.05\n",
    "\n",
    "if anova_test.pvalue < alpha:\n",
    "    print(\"Reject the Null\")\n",
    "else:\n",
    "    print(\"Fail to reject\")"
   ]
  },
  {
   "cell_type": "markdown",
   "id": "d128793f",
   "metadata": {
    "id": "d128793f"
   },
   "source": [
    "## Task-4. Is There a Relationship Between Physical activity vs. Presence or absence of cardiovascular disease?"
   ]
  },
  {
   "cell_type": "markdown",
   "id": "9d0cbaf7",
   "metadata": {
    "id": "9d0cbaf7"
   },
   "source": [
    "### Physical activity vs. Presence or absence of cardiovascular disease"
   ]
  },
  {
   "cell_type": "code",
   "execution_count": 55,
   "id": "f1a2997b",
   "metadata": {},
   "outputs": [
    {
     "data": {
      "text/html": [
       "<div>\n",
       "<style scoped>\n",
       "    .dataframe tbody tr th:only-of-type {\n",
       "        vertical-align: middle;\n",
       "    }\n",
       "\n",
       "    .dataframe tbody tr th {\n",
       "        vertical-align: top;\n",
       "    }\n",
       "\n",
       "    .dataframe thead th {\n",
       "        text-align: right;\n",
       "    }\n",
       "</style>\n",
       "<table border=\"1\" class=\"dataframe\">\n",
       "  <thead>\n",
       "    <tr style=\"text-align: right;\">\n",
       "      <th>cardio</th>\n",
       "      <th>0</th>\n",
       "      <th>1</th>\n",
       "    </tr>\n",
       "    <tr>\n",
       "      <th>active</th>\n",
       "      <th></th>\n",
       "      <th></th>\n",
       "    </tr>\n",
       "  </thead>\n",
       "  <tbody>\n",
       "    <tr>\n",
       "      <th>0</th>\n",
       "      <td>5880</td>\n",
       "      <td>6796</td>\n",
       "    </tr>\n",
       "    <tr>\n",
       "      <th>1</th>\n",
       "      <td>26475</td>\n",
       "      <td>25351</td>\n",
       "    </tr>\n",
       "  </tbody>\n",
       "</table>\n",
       "</div>"
      ],
      "text/plain": [
       "cardio      0      1\n",
       "active              \n",
       "0        5880   6796\n",
       "1       26475  25351"
      ]
     },
     "execution_count": 55,
     "metadata": {},
     "output_type": "execute_result"
    }
   ],
   "source": [
    "pd.crosstab(df['active'], df['cardio'])"
   ]
  },
  {
   "cell_type": "markdown",
   "id": "QfsEEewCadVd",
   "metadata": {
    "id": "QfsEEewCadVd"
   },
   "source": [
    "⭐Create a crosstab using Pandas."
   ]
  },
  {
   "cell_type": "code",
   "execution_count": 56,
   "id": "7911244f",
   "metadata": {},
   "outputs": [
    {
     "data": {
      "text/html": [
       "<div>\n",
       "<style scoped>\n",
       "    .dataframe tbody tr th:only-of-type {\n",
       "        vertical-align: middle;\n",
       "    }\n",
       "\n",
       "    .dataframe tbody tr th {\n",
       "        vertical-align: top;\n",
       "    }\n",
       "\n",
       "    .dataframe thead th {\n",
       "        text-align: right;\n",
       "    }\n",
       "</style>\n",
       "<table border=\"1\" class=\"dataframe\">\n",
       "  <thead>\n",
       "    <tr style=\"text-align: right;\">\n",
       "      <th>cardio</th>\n",
       "      <th>0</th>\n",
       "      <th>1</th>\n",
       "    </tr>\n",
       "    <tr>\n",
       "      <th>active</th>\n",
       "      <th></th>\n",
       "      <th></th>\n",
       "    </tr>\n",
       "  </thead>\n",
       "  <tbody>\n",
       "    <tr>\n",
       "      <th>0</th>\n",
       "      <td>5880</td>\n",
       "      <td>6796</td>\n",
       "    </tr>\n",
       "    <tr>\n",
       "      <th>1</th>\n",
       "      <td>26475</td>\n",
       "      <td>25351</td>\n",
       "    </tr>\n",
       "  </tbody>\n",
       "</table>\n",
       "</div>"
      ],
      "text/plain": [
       "cardio      0      1\n",
       "active              \n",
       "0        5880   6796\n",
       "1       26475  25351"
      ]
     },
     "execution_count": 56,
     "metadata": {},
     "output_type": "execute_result"
    }
   ],
   "source": [
    "pd.crosstab(df['active'], df['cardio'])"
   ]
  },
  {
   "cell_type": "markdown",
   "id": "BHkX6Cdhn-cU",
   "metadata": {
    "id": "BHkX6Cdhn-cU"
   },
   "source": [
    "⭐Conduct chi-square test to see if there is a relationship between 2 categorical variables."
   ]
  },
  {
   "cell_type": "code",
   "execution_count": 57,
   "id": "d4bbe141",
   "metadata": {
    "id": "d4bbe141"
   },
   "outputs": [],
   "source": [
    "data=pd.crosstab(df['active'], df['cardio'])"
   ]
  },
  {
   "cell_type": "code",
   "execution_count": 60,
   "id": "559790fa",
   "metadata": {
    "id": "559790fa"
   },
   "outputs": [
    {
     "data": {
      "text/plain": [
       "2.7545907844338303e-21"
      ]
     },
     "execution_count": 60,
     "metadata": {},
     "output_type": "execute_result"
    }
   ],
   "source": [
    "stat,p, dof, expected = stats.chi2_contingency(data)\n",
    "p"
   ]
  },
  {
   "cell_type": "code",
   "execution_count": 70,
   "id": "5fc8796b",
   "metadata": {},
   "outputs": [
    {
     "data": {
      "text/plain": [
       "2.7545907844338303e-21"
      ]
     },
     "execution_count": 70,
     "metadata": {},
     "output_type": "execute_result"
    }
   ],
   "source": [
    "stats.chi2_contingency(data)[1]"
   ]
  },
  {
   "cell_type": "code",
   "execution_count": 71,
   "id": "5105746b",
   "metadata": {
    "id": "5105746b"
   },
   "outputs": [
    {
     "name": "stdout",
     "output_type": "stream",
     "text": [
      "Reject the Null\n"
     ]
    }
   ],
   "source": [
    "# Decision\n",
    "alpha = 0.05\n",
    "\n",
    "if stats.chi2_contingency(data)[1] < alpha:\n",
    "    print(\"Reject the Null\")\n",
    "else:\n",
    "    print(\"Fail to reject\")"
   ]
  }
 ],
 "metadata": {
  "colab": {
   "collapsed_sections": [],
   "provenance": []
  },
  "kernelspec": {
   "display_name": "Python 3 (ipykernel)",
   "language": "python",
   "name": "python3"
  },
  "language_info": {
   "codemirror_mode": {
    "name": "ipython",
    "version": 3
   },
   "file_extension": ".py",
   "mimetype": "text/x-python",
   "name": "python",
   "nbconvert_exporter": "python",
   "pygments_lexer": "ipython3",
   "version": "3.9.12"
  }
 },
 "nbformat": 4,
 "nbformat_minor": 5
}
